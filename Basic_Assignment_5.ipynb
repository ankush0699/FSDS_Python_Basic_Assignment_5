{
 "cells": [
  {
   "cell_type": "code",
   "execution_count": null,
   "metadata": {},
   "outputs": [],
   "source": [
    "\n",
    "# Name: Ankush Shukla   e-mail: ankushshukla0612@gmail.com \n",
    "# Python_Basic_Assignment_5"
   ]
  },
  {
   "cell_type": "code",
   "execution_count": null,
   "metadata": {},
   "outputs": [],
   "source": [
    "#Question_1:  What does an empty dictionary's code look like?"
   ]
  },
  {
   "cell_type": "code",
   "execution_count": null,
   "metadata": {},
   "outputs": [],
   "source": [
    "#Answer:\n",
    "\"\"\"\n",
    "In Python, an empty dictionary is represented by a pair of curly braces {}.\n",
    "\n",
    "empty_dict = {}\n",
    "\n",
    "We can also create an empty dictionary using the dict() constructor.\n",
    "\n",
    "empty_dict = dict()\n",
    "\n",
    "\"\"\""
   ]
  },
  {
   "cell_type": "code",
   "execution_count": null,
   "metadata": {},
   "outputs": [],
   "source": [
    "#Question_2: What is the value of a dictionary value with the key 'foo' and the value 42?"
   ]
  },
  {
   "cell_type": "code",
   "execution_count": 3,
   "metadata": {},
   "outputs": [
    {
     "name": "stdout",
     "output_type": "stream",
     "text": [
      "42\n"
     ]
    }
   ],
   "source": [
    "#Answer: The value is 42.\n",
    "\n",
    "my_dict = {'foo': 42}\n",
    "value = my_dict['foo']\n",
    "print(value)\n"
   ]
  },
  {
   "cell_type": "code",
   "execution_count": null,
   "metadata": {},
   "outputs": [],
   "source": [
    "#Question_3:  What is the most significant distinction between a dictionary and a list?"
   ]
  },
  {
   "cell_type": "code",
   "execution_count": null,
   "metadata": {},
   "outputs": [],
   "source": [
    "#Answer:\n",
    "\n",
    "\"\"\"\n",
    "The most significant distinction between a dictionary and a list in Python is how they store and access data:\n",
    "\n",
    "\n",
    "Lists: Lists are ordered collections of items, and they store data in a linear sequence with integer indices starting from 0. \n",
    "       we can access elements in a list by their index. \n",
    "\n",
    "Dictionaries: Dictionaries are unordered collections of key-value pairs. \n",
    "              Instead of using numerical indices, dictionaries use keys to access values. \n",
    "              Keys are unique within a dictionary and serve as identifiers for the associated values. \n",
    "\"\"\""
   ]
  },
  {
   "cell_type": "code",
   "execution_count": null,
   "metadata": {},
   "outputs": [],
   "source": [
    "#Question_4:  What happens if you try to access spam['foo'] if spam is {'bar': 100}?"
   ]
  },
  {
   "cell_type": "code",
   "execution_count": 4,
   "metadata": {},
   "outputs": [
    {
     "ename": "KeyError",
     "evalue": "'foo'",
     "output_type": "error",
     "traceback": [
      "\u001b[1;31m---------------------------------------------------------------------------\u001b[0m",
      "\u001b[1;31mKeyError\u001b[0m                                  Traceback (most recent call last)",
      "\u001b[1;32mc:\\FSDS\\Basic_Assignment_5\\Basic_Assignment_5.ipynb Cell 9\u001b[0m line \u001b[0;36m3\n\u001b[0;32m      <a href='vscode-notebook-cell:/c%3A/FSDS/Basic_Assignment_5/Basic_Assignment_5.ipynb#X11sZmlsZQ%3D%3D?line=0'>1</a>\u001b[0m \u001b[39m#Answer:\u001b[39;00m\n\u001b[0;32m      <a href='vscode-notebook-cell:/c%3A/FSDS/Basic_Assignment_5/Basic_Assignment_5.ipynb#X11sZmlsZQ%3D%3D?line=1'>2</a>\u001b[0m spam \u001b[39m=\u001b[39m {\u001b[39m'\u001b[39m\u001b[39mbar\u001b[39m\u001b[39m'\u001b[39m: \u001b[39m100\u001b[39m}\n\u001b[1;32m----> <a href='vscode-notebook-cell:/c%3A/FSDS/Basic_Assignment_5/Basic_Assignment_5.ipynb#X11sZmlsZQ%3D%3D?line=2'>3</a>\u001b[0m value \u001b[39m=\u001b[39m spam[\u001b[39m'\u001b[39m\u001b[39mfoo\u001b[39m\u001b[39m'\u001b[39m]\n",
      "\u001b[1;31mKeyError\u001b[0m: 'foo'"
     ]
    }
   ],
   "source": [
    "#Answer:\n",
    "spam = {'bar': 100}\n",
    "value = spam['foo']  # This line will raise a KeyError\n"
   ]
  },
  {
   "cell_type": "code",
   "execution_count": null,
   "metadata": {},
   "outputs": [],
   "source": [
    "#Question_5:  If a dictionary is stored in spam, what is the difference between the expressions 'cat' in spam and\n",
    "#             'cat' in spam.keys()?"
   ]
  },
  {
   "cell_type": "code",
   "execution_count": 5,
   "metadata": {},
   "outputs": [
    {
     "name": "stdout",
     "output_type": "stream",
     "text": [
      "True\n",
      "True\n"
     ]
    }
   ],
   "source": [
    "#Answer:\n",
    "\n",
    "\"\"\"\n",
    "'cat' in spam: This expression checks presence of key 'cat' directly in the dictionary stored in spam.\n",
    "\n",
    "'cat' in spam.keys(): This expression will first access all the keys from dictionary then it will check \n",
    "                          whether the key 'cat' is present in dic or not by using the accessed keys.\n",
    "\n",
    "\"\"\"\n",
    "\n",
    "spam = {'cat': 'meow', 'dog': 'bark'}\n",
    "\n",
    "print('cat' in spam)  # True\n",
    "\n",
    "print('cat' in spam.keys())  # True\n"
   ]
  },
  {
   "cell_type": "code",
   "execution_count": null,
   "metadata": {},
   "outputs": [],
   "source": [
    "#Question_6:  If a dictionary is stored in spam, what is the difference between the expressions 'cat' in spam and\n",
    "#             'cat' in spam.values()?"
   ]
  },
  {
   "cell_type": "code",
   "execution_count": 7,
   "metadata": {},
   "outputs": [
    {
     "name": "stdout",
     "output_type": "stream",
     "text": [
      "True\n",
      "False\n"
     ]
    }
   ],
   "source": [
    "#Answer:\n",
    "\n",
    "\"\"\"\n",
    "'cat' in spam: This expression checks presence of key 'cat' directly in the dictionary stored in spam.\n",
    "\n",
    "'cat' in spam.values():   This expression will first access values form dic and then it will check \n",
    "                          whether the value 'cat' is present in dic or not by using accessed values.\n",
    "\"\"\"\n",
    "\n",
    "spam = {'cat': 'meow', 'dog': 'bark'}\n",
    "\n",
    "print('cat' in spam)  # True\n",
    "\n",
    "print('cat' in spam.values())  # False\n"
   ]
  },
  {
   "cell_type": "code",
   "execution_count": null,
   "metadata": {},
   "outputs": [],
   "source": [
    "#Question_7:  What is a shortcut for the following code?\n",
    "#             if 'color' not in spam:\n",
    "#             spam['color'] = 'black'"
   ]
  },
  {
   "cell_type": "code",
   "execution_count": null,
   "metadata": {},
   "outputs": [],
   "source": [
    "#Answer: \n",
    "\n",
    "\"\"\"      A shortcut for the above code is\n",
    "\n",
    "\n",
    "#        spam.setdefault('color', 'black')\n",
    "\n",
    "\"\"\"\n"
   ]
  },
  {
   "cell_type": "code",
   "execution_count": null,
   "metadata": {},
   "outputs": [],
   "source": [
    "#Question_8:  How do you \"pretty print\" dictionary values using which module and function?"
   ]
  },
  {
   "cell_type": "code",
   "execution_count": 8,
   "metadata": {},
   "outputs": [
    {
     "name": "stdout",
     "output_type": "stream",
     "text": [
      "{'age': 30, 'city': 'New York', 'name': 'John'}\n"
     ]
    }
   ],
   "source": [
    "#Answer:  \n",
    "\n",
    "\"\"\"\n",
    "We can \"pretty print\" dictionary values by importing 'pprint' library and then using pprint() function of this library.\n",
    "pprint represents dic and list like data structure in more easily readable and visually organised way.\n",
    "\"\"\"\n",
    "\n",
    "import pprint\n",
    "\n",
    "# Let us first define a dictionary\n",
    "my_dict = {\n",
    "    'name': 'John',\n",
    "    'age': 30,\n",
    "    'city': 'New York',}\n",
    "\n",
    "\n",
    "\n",
    "# Pretty print the dictionary\n",
    "pprint.pprint(my_dict)\n"
   ]
  },
  {
   "cell_type": "code",
   "execution_count": null,
   "metadata": {},
   "outputs": [],
   "source": []
  },
  {
   "cell_type": "code",
   "execution_count": null,
   "metadata": {},
   "outputs": [],
   "source": []
  },
  {
   "cell_type": "code",
   "execution_count": null,
   "metadata": {},
   "outputs": [],
   "source": []
  },
  {
   "cell_type": "code",
   "execution_count": null,
   "metadata": {},
   "outputs": [],
   "source": []
  },
  {
   "cell_type": "code",
   "execution_count": null,
   "metadata": {},
   "outputs": [],
   "source": []
  },
  {
   "cell_type": "code",
   "execution_count": null,
   "metadata": {},
   "outputs": [],
   "source": []
  },
  {
   "cell_type": "code",
   "execution_count": null,
   "metadata": {},
   "outputs": [],
   "source": []
  },
  {
   "cell_type": "code",
   "execution_count": null,
   "metadata": {},
   "outputs": [],
   "source": []
  },
  {
   "cell_type": "code",
   "execution_count": null,
   "metadata": {},
   "outputs": [],
   "source": []
  },
  {
   "cell_type": "code",
   "execution_count": null,
   "metadata": {},
   "outputs": [],
   "source": []
  },
  {
   "cell_type": "code",
   "execution_count": null,
   "metadata": {},
   "outputs": [],
   "source": []
  },
  {
   "cell_type": "code",
   "execution_count": null,
   "metadata": {},
   "outputs": [],
   "source": []
  }
 ],
 "metadata": {
  "kernelspec": {
   "display_name": "base",
   "language": "python",
   "name": "python3"
  },
  "language_info": {
   "codemirror_mode": {
    "name": "ipython",
    "version": 3
   },
   "file_extension": ".py",
   "mimetype": "text/x-python",
   "name": "python",
   "nbconvert_exporter": "python",
   "pygments_lexer": "ipython3",
   "version": "3.11.4"
  }
 },
 "nbformat": 4,
 "nbformat_minor": 2
}
